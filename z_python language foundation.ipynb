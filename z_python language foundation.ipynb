{
 "cells": [
  {
   "cell_type": "code",
   "execution_count": 1,
   "id": "022b6dea",
   "metadata": {},
   "outputs": [
    {
     "data": {
      "text/plain": [
       "'2.14.0'"
      ]
     },
     "execution_count": 1,
     "metadata": {},
     "output_type": "execute_result"
    }
   ],
   "source": [
    "import tensorflow\n",
    "tensorflow.__version__"
   ]
  },
  {
   "cell_type": "code",
   "execution_count": 2,
   "id": "a5fafabc",
   "metadata": {
    "scrolled": true
   },
   "outputs": [
    {
     "data": {
      "text/plain": [
       "256"
      ]
     },
     "execution_count": 2,
     "metadata": {},
     "output_type": "execute_result"
    }
   ],
   "source": [
    "2**8"
   ]
  },
  {
   "cell_type": "code",
   "execution_count": 4,
   "id": "a9cce4cd",
   "metadata": {},
   "outputs": [
    {
     "name": "stdout",
     "output_type": "stream",
     "text": [
      "a= 1111 , b= 30 , c= 10\n"
     ]
    }
   ],
   "source": [
    "a = 10\n",
    "b = a\n",
    "c = b\n",
    "\n",
    "b = 30\n",
    "a = 1111\n",
    "print('a=',a, ', b=', b,', c=', c)"
   ]
  },
  {
   "cell_type": "code",
   "execution_count": 15,
   "id": "ca3f22d7",
   "metadata": {},
   "outputs": [
    {
     "name": "stdout",
     "output_type": "stream",
     "text": [
      "[1, 0, -1]\n",
      "[1, 0, -1]\n"
     ]
    }
   ],
   "source": [
    "# the rule when assigned array is passing memory\n",
    "a = [1,2,3]\n",
    "b = a\n",
    "\n",
    "a[1] = 0\n",
    "b[2] = -1\n",
    "print(a)\n",
    "print(b)"
   ]
  },
  {
   "cell_type": "code",
   "execution_count": 6,
   "id": "67debd0c",
   "metadata": {},
   "outputs": [
    {
     "name": "stdout",
     "output_type": "stream",
     "text": [
      "(1, 2, 3)\n"
     ]
    }
   ],
   "source": [
    "a = (1,2,3) \n",
    "# a[1] = 0; # cannot change values in tuple type\n",
    "print(a)"
   ]
  },
  {
   "cell_type": "code",
   "execution_count": 14,
   "id": "4743543e",
   "metadata": {},
   "outputs": [
    {
     "name": "stdout",
     "output_type": "stream",
     "text": [
      "a+b=あいうえお123\n"
     ]
    }
   ],
   "source": [
    "a = 'あいうえお'\n",
    "b = 123\n",
    "print(f'a+b={a}{b}') # f文字列"
   ]
  },
  {
   "cell_type": "code",
   "execution_count": 6,
   "id": "90c1811d",
   "metadata": {},
   "outputs": [
    {
     "name": "stdout",
     "output_type": "stream",
     "text": [
      "[1, 'あ', 'this is a', '違う型でもいけるんだ。便利']\n"
     ]
    },
    {
     "data": {
      "text/plain": [
       "4"
      ]
     },
     "execution_count": 6,
     "metadata": {},
     "output_type": "execute_result"
    }
   ],
   "source": [
    "a = 'this is a'\n",
    "x = [1, \"あ\", a, '違う型でもいけるんだ。便利']\n",
    "print(x)\n",
    "len(x)"
   ]
  },
  {
   "cell_type": "code",
   "execution_count": 35,
   "id": "e248bbef",
   "metadata": {},
   "outputs": [
    {
     "name": "stdout",
     "output_type": "stream",
     "text": [
      "this is memory-efficient: range(0, 10) , not efficient: [5, 6, 7, 8, 9, 10]\n"
     ]
    }
   ],
   "source": [
    "x = range(10)\n",
    "y = list(range(5,11))\n",
    "print('this is memory-efficient:', x, ', not efficient:' ,y)"
   ]
  },
  {
   "cell_type": "code",
   "execution_count": 52,
   "id": "1162131e",
   "metadata": {},
   "outputs": [
    {
     "name": "stdout",
     "output_type": "stream",
     "text": [
      "this is larger than 5\n"
     ]
    }
   ],
   "source": [
    "a = 7\n",
    "b = 7\n",
    "if a >= 6:\n",
    "    print('this is larger than 5')\n",
    "elif a == 7 and b == 7:\n",
    "    print('BINGO')\n",
    "else:\n",
    "    print('too small number')"
   ]
  },
  {
   "cell_type": "code",
   "execution_count": 72,
   "id": "cbfd9a04",
   "metadata": {},
   "outputs": [
    {
     "name": "stdout",
     "output_type": "stream",
     "text": [
      "[ 6.  8. 10. 12. 14. 16.]\n"
     ]
    }
   ],
   "source": [
    "import numpy as np\n",
    "x = range(3,9)\n",
    "newX = np.zeros(len(x))\n",
    "for i in range(len(x)):\n",
    "    newX[i] = x[i]*2\n",
    "print(newX)"
   ]
  },
  {
   "cell_type": "code",
   "execution_count": 3,
   "id": "785e7c5c",
   "metadata": {},
   "outputs": [
    {
     "name": "stdout",
     "output_type": "stream",
     "text": [
      "[1, 2, 3, 4]\n",
      "[4 6]\n"
     ]
    }
   ],
   "source": [
    "# this is list type not vector\n",
    "a = [1, 2]\n",
    "b = [3, 4]\n",
    "print(a + b)\n",
    "\n",
    "# this is vector\n",
    "import numpy as np\n",
    "x = np.array([1, 2])\n",
    "y = np.array([3, 4])\n",
    "print(x + y)"
   ]
  },
  {
   "cell_type": "code",
   "execution_count": 5,
   "id": "97186128",
   "metadata": {},
   "outputs": [
    {
     "name": "stdout",
     "output_type": "stream",
     "text": [
      "[999   2]\n",
      "[1 2]\n"
     ]
    }
   ],
   "source": [
    "# pass memory or values\n",
    "a = np.array([1, 2])\n",
    "x1 = a;\n",
    "x2 = a.copy()\n",
    "a[0] = 999\n",
    "print(x1)\n",
    "print(x2)\n"
   ]
  },
  {
   "cell_type": "code",
   "execution_count": 19,
   "id": "84a79d6d",
   "metadata": {},
   "outputs": [
    {
     "name": "stdout",
     "output_type": "stream",
     "text": [
      "0.417022004702574\n",
      "0.7203244934421581\n",
      "0.00011437481734488664\n"
     ]
    }
   ],
   "source": [
    "np.random.seed(seed=1) # output same values\n",
    "for i in range(3):\n",
    "    print(np.random.rand())"
   ]
  },
  {
   "cell_type": "code",
   "execution_count": 22,
   "id": "e5aa5069",
   "metadata": {},
   "outputs": [
    {
     "data": {
      "text/plain": [
       "300"
      ]
     },
     "execution_count": 22,
     "metadata": {},
     "output_type": "execute_result"
    }
   ],
   "source": [
    "def my_func1(a, b):\n",
    "    c = a + b\n",
    "    return c\n",
    "\n",
    "my_func1(100,200)"
   ]
  },
  {
   "cell_type": "code",
   "execution_count": 25,
   "id": "04b5cf12",
   "metadata": {},
   "outputs": [
    {
     "data": {
      "image/png": "[encoded data removed]",
      "text/plain": [
       "<Figure size 640x480 with 1 Axes>"
      ]
     },
     "metadata": {},
     "output_type": "display_data"
    },
    {
     "data": {
      "image/png": "[encoded data removed]",
      "text/plain": [
       "<Figure size 640x480 with 1 Axes>"
      ]
     },
     "metadata": {},
     "output_type": "display_data"
    },
    {
     "name": "stdout",
     "output_type": "stream",
     "text": [
      "[0 1 2 3 4 5 6 7 8 9]\n"
     ]
    }
   ],
   "source": [
    "%matplotlib inline\n",
    "import numpy as np\n",
    "import matplotlib.pyplot as plt\n",
    "\n",
    "np.random.seed(seed = 90)\n",
    "x = np.arange(10)\n",
    "y = np.random.rand(10)\n",
    "plt.plot(x,y)\n",
    "plt.show()\n",
    "\n",
    "def f(x):\n",
    "    return x**2 -3\n",
    "\n",
    "x2 = np.linspace(-10, 10, 1000)\n",
    "y2 = f(x2)\n",
    "plt.plot(x2,y2)\n",
    "plt.show()\n",
    "print(x)\n"
   ]
  },
  {
   "cell_type": "code",
   "execution_count": null,
   "id": "2d56225f",
   "metadata": {},
   "outputs": [],
   "source": []
  },
  {
   "cell_type": "code",
   "execution_count": null,
   "id": "f1ed89df",
   "metadata": {},
   "outputs": [],
   "source": []
  }
 ],
 "metadata": {
  "kernelspec": {
   "display_name": "Python 3 (ipykernel)",
   "language": "python",
   "name": "python3"
  },
  "language_info": {
   "codemirror_mode": {
    "name": "ipython",
    "version": 3
   },
   "file_extension": ".py",
   "mimetype": "text/x-python",
   "name": "python",
   "nbconvert_exporter": "python",
   "pygments_lexer": "ipython3",
   "version": "3.11.5"
  }
 },
 "nbformat": 4,
 "nbformat_minor": 5
}
